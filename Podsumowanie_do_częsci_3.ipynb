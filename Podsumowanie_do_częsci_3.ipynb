{
 "cells": [
  {
   "cell_type": "markdown",
   "id": "e3e0ba09",
   "metadata": {},
   "source": [
    "# Podsumowanie do części trzeciej"
   ]
  },
  {
   "cell_type": "markdown",
   "id": "6c09ab23",
   "metadata": {},
   "source": [
    "Wytrenowano następujace modele:\n",
    "\n",
    "1. Model regresji logistycznej,\n",
    "2. Drzewo decyzyjne,\n",
    "3. K najbliższych sąsiadów,\n",
    "4. Agregacja Bootstrapowa (Bagging, AdaBoost,xgboost,catboost),\n",
    "5. Model SVM (Maszyna wektorów nośnych).\n",
    "\n",
    "Modele te wytrenowano dla otrzymanego w części drugiej DF, który został podzielony na poszczególne DF:\n",
    "1. df_FE2 - DF z wartościami odstajacymi\n",
    "2. df_FE3 - DF, w którym zastąpiono wartości odstające medianą\n",
    "3. df_FE4 - DF, w którym usunięto wartości odstające\n",
    "4. df_dummies - DF po one-hot-encodingu\n",
    "5. df_FE6 - DF, w którym zastąpiono wartości odstające średnią\n"
   ]
  },
  {
   "cell_type": "markdown",
   "id": "085f44e1",
   "metadata": {},
   "source": [
    "#### Model regresji logistycznej"
   ]
  },
  {
   "cell_type": "markdown",
   "id": "1c3a398c",
   "metadata": {},
   "source": [
    "Wytrenowane modele miały miały wysokie wartości miar klasyfikatorów. Najwyższą wartość wskaźników miał model wytrenowany na DF z usuniętymi outliersami oraz DF po one-hot-encodingu. Wysokie wartości miar klasyfikatorów mogą wynikać z niezbalansowanego targetu."
   ]
  },
  {
   "cell_type": "markdown",
   "id": "3cf2b1b0",
   "metadata": {},
   "source": [
    "#### Drzewo decyzyjne"
   ]
  },
  {
   "cell_type": "markdown",
   "id": "4c0a814e",
   "metadata": {},
   "source": [
    "Wytrenowane modele miały miały wysokie wartości miar klasyfikatorów. Najwyższą wartość wskaźników miał model wytrenowany na DF, w którym wartości odstające zamieniono średnią, DF z usuniętymi outliersami oraz DF po one-hot-encodingu. Niezbyt dobrze wypadły modele, w których wartości odstające zamieniono medianą. W każdym z modeli widać, że usunięcie nadmiarowych wartości znacznie podnosi wartości oceny klasyfikatorów (tej zależności nie zauważono w przypadku DF, w którym wartości odstające zastąpiono medianą.Wysokie wartości miar klasyfikatorów mogą wynikać z niezbalansowanego targetu."
   ]
  },
  {
   "cell_type": "markdown",
   "id": "819fe285",
   "metadata": {},
   "source": [
    "####  K najbliższych sąsiadów"
   ]
  },
  {
   "cell_type": "markdown",
   "id": "3342df1f",
   "metadata": {},
   "source": [
    "Wytrenowane modele mialy nizsze wartosci wskaznikow od poprzednich modeli (LOGIT, DT). Najlepsze parametry otrzymano dla modeli trenowanych na DF, w których wartości odstające zamieniono na srednia. Najgorzej wypadl model trenowany na DF z one-hot-encoding. Kazdy model bazowal na innych cechach. Moim zdaniem znowu najlepiej pasowaly cechy z modelu trenowanego na DF z usunietymi outliersami."
   ]
  },
  {
   "cell_type": "markdown",
   "id": "4b9f5b47",
   "metadata": {},
   "source": [
    "#### Agregacja Bootstrapowa (Bagging, AdaBoost,xgboost,catboost)"
   ]
  },
  {
   "cell_type": "markdown",
   "id": "2c59d6a7",
   "metadata": {},
   "source": [
    "Otrzymane klasyfikatory byly bardzo wysokie. Prawdopodobnie brak balansu danych spowodowal przetrenowanie."
   ]
  },
  {
   "cell_type": "markdown",
   "id": "0c5d1139",
   "metadata": {},
   "source": [
    "#### Model SVM (Maszyna wektorów nośnych)"
   ]
  },
  {
   "cell_type": "markdown",
   "id": "389bdc1b",
   "metadata": {},
   "source": [
    "Modele te maja nizsza precyzje w porownaniu do poprzednich. Wysokie wskazniki AUCROC."
   ]
  },
  {
   "cell_type": "markdown",
   "id": "00a2554e",
   "metadata": {},
   "source": [
    "### Wartości AUCROC po PCA"
   ]
  },
  {
   "cell_type": "markdown",
   "id": "88348b59",
   "metadata": {},
   "source": [
    "Po wytrenowaniu i zbalansowaniu danych wartości AUCROC dla wytrenowanych modeli spadły. W zależności od użytych DF wartosci wskaźników różniły się. Najlepsze wartości na ogół miały DF z usuniętymi outliersami oraz po one-hot-encodingu.  "
   ]
  }
 ],
 "metadata": {
  "kernelspec": {
   "display_name": "Python 3 (ipykernel)",
   "language": "python",
   "name": "python3"
  },
  "language_info": {
   "codemirror_mode": {
    "name": "ipython",
    "version": 3
   },
   "file_extension": ".py",
   "mimetype": "text/x-python",
   "name": "python",
   "nbconvert_exporter": "python",
   "pygments_lexer": "ipython3",
   "version": "3.9.7"
  }
 },
 "nbformat": 4,
 "nbformat_minor": 5
}
